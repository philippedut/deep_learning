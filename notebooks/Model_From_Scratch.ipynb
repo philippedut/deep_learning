{
 "cells": [
  {
   "cell_type": "markdown",
   "id": "370c5409",
   "metadata": {},
   "source": [
    "# Description\n",
    "\n",
    "we thought that a good baseline to start with was to build a model from scratch using the example from keras:<br>\n",
    "http://keras.io/examples/vision/image_classification_from_scratch/ <br>\n",
    "\n",
    "we did this in order to see what could be improved from it\n"
   ]
  },
  {
   "cell_type": "markdown",
   "id": "e50ba3bf",
   "metadata": {
    "vscode": {
     "languageId": "plaintext"
    }
   },
   "source": [
    "# Import"
   ]
  },
  {
   "cell_type": "code",
   "execution_count": null,
   "id": "cc2c9263",
   "metadata": {},
   "outputs": [],
   "source": [
    "import numpy as np\n",
    "import pandas as pd\n",
    "import os\n",
    "import shutil\n",
    "import keras\n",
    "from google.colab import drive\n",
    "from keras import layers\n",
    "from tensorflow import data as tf_data\n",
    "from tensorflow.keras import layers\n",
    "from tensorflow.keras.applications import VGG16\n",
    "from tensorflow.keras.layers import Rescaling\n",
    "from tensorflow.keras.layers import RandAugment\n",
    "import matplotlib.pyplot as plt\n",
    "from sklearn.metrics import classification_report\n",
    "import numpy as np"
   ]
  },
  {
   "cell_type": "code",
   "execution_count": null,
   "id": "81714fac",
   "metadata": {},
   "outputs": [],
   "source": [
    "# if using colab, run this cell to import the data\n",
    "from google.colab import drive\n",
    "import zipfile\n",
    "drive.mount('/content/drive')\n",
    "\n",
    "zip_path = '/content/drive/MyDrive/rare_species 1.zip'\n",
    "extract_path = '/content/rare_species 1'\n",
    "with zipfile.ZipFile(zip_path, 'r') as zip_ref:\n",
    "    zip_ref.extractall(extract_path)"
   ]
  },
  {
   "cell_type": "code",
   "execution_count": null,
   "id": "3f62b070",
   "metadata": {},
   "outputs": [],
   "source": [
    "# With colab\n",
    "folder_path = '/content/rare_species 1/rare_species 1'\n",
    "meta = pd.read_csv('/content/rare_species 1/rare_species 1/metadata.csv')\n",
    "\n",
    "# With vscode\n",
    "# folder_path = '../data/rare_species 1'\n",
    "# meta = pd.read_csv('../data/rare_species 1/metadata.csv')"
   ]
  },
  {
   "cell_type": "markdown",
   "id": "eda51fca",
   "metadata": {},
   "source": [
    "# Data Preparation"
   ]
  },
  {
   "cell_type": "markdown",
   "id": "597fc8b8",
   "metadata": {},
   "source": [
    "## Data Split"
   ]
  },
  {
   "cell_type": "code",
   "execution_count": null,
   "id": "0a500d73",
   "metadata": {},
   "outputs": [],
   "source": [
    "image_size = (224, 224)\n",
    "seed = 42\n",
    "batch_size = 32\n",
    "\n",
    "train_ds, val_ds= keras.utils.image_dataset_from_directory(\n",
    "    folder_path,\n",
    "    validation_split=0.2,\n",
    "    subset= \"both\",\n",
    "    seed= seed,\n",
    "    image_size= image_size,\n",
    "    batch_size= batch_size\n",
    ")"
   ]
  },
  {
   "cell_type": "code",
   "execution_count": null,
   "id": "13524afc",
   "metadata": {},
   "outputs": [],
   "source": [
    "def display_images(train_ds):\n",
    "    for images, labels in train_ds.take(1):\n",
    "        plt.figure(figsize=(8, 8))\n",
    "        for i in range(9):\n",
    "            ax = plt.subplot(3, 3, i + 1)\n",
    "            plt.imshow(np.array(images[i]).astype(\"uint8\"))\n",
    "            plt.title(int(labels[i]))\n",
    "            plt.axis(\"off\")\n",
    "        plt.tight_layout()\n",
    "        plt.show()\n",
    "\n",
    "display_images(train_ds)"
   ]
  },
  {
   "cell_type": "markdown",
   "id": "ccbbded6",
   "metadata": {},
   "source": [
    "## Augmentation layer"
   ]
  },
  {
   "cell_type": "markdown",
   "id": "6055bddb",
   "metadata": {},
   "source": [
    "We decided to use the RandAugment layer from Keras because it is an all-in-one method. Although it may be refined in future iterations, for now it simplifies our process by establishing a solid starting point for further improvements."
   ]
  },
  {
   "cell_type": "code",
   "execution_count": null,
   "id": "9a5ac0dc",
   "metadata": {},
   "outputs": [],
   "source": [
    "def data_augmentation(images):\n",
    "    for layer in data_augmentation_layers:\n",
    "        images = layer(images)\n",
    "    return images\n",
    "\n",
    "data_augmentation_layers = [\n",
    "    layers.RandAugment(value_range=(0, 255))\n",
    " ## add any you want here\n",
    "]"
   ]
  },
  {
   "cell_type": "code",
   "execution_count": null,
   "id": "3c0988de",
   "metadata": {},
   "outputs": [],
   "source": [
    "## plot the result of augmentation layer\n",
    "for images, _ in train_ds.take(1):\n",
    "\n",
    "    for i in range(16):\n",
    "        augmented_images = data_augmentation(images)\n",
    "        ax = plt.subplot(4, 4, i + 1)\n",
    "        plt.imshow(np.array(augmented_images[0]).astype(\"uint8\"))\n",
    "        plt.axis(\"off\")\n",
    "    plt.tight_layout()\n",
    "    plt.show()"
   ]
  },
  {
   "cell_type": "markdown",
   "id": "7135e730",
   "metadata": {},
   "source": [
    "# Model building\n",
    "Must instal:\n",
    "\n",
    "python3.11 -m pip install pydot\n",
    "\n",
    "brew install graphviz\n"
   ]
  },
  {
   "cell_type": "markdown",
   "id": "a8533b48",
   "metadata": {},
   "source": [
    "This is roughly the same model provided in the example give or take some minor changes\n",
    "- The output changed to fit a multiclassification purpose\n",
    "- We added the augmentation layer in the pipeline"
   ]
  },
  {
   "cell_type": "code",
   "execution_count": null,
   "id": "53fe806c",
   "metadata": {},
   "outputs": [],
   "source": [
    "def make_model(input_shape, num_classes):\n",
    "    inputs = keras.Input(shape=input_shape)\n",
    "\n",
    "    # Apply data augmentation\n",
    "    x = data_augmentation(inputs)\n",
    "    # Add a Rescaling layer\n",
    "    x = layers.Rescaling(1.0 / 255)(x)\n",
    "\n",
    "    x = layers.Conv2D(128, 3, strides=2, padding=\"same\")(x)\n",
    "    x = layers.BatchNormalization()(x)\n",
    "    x = layers.Activation(\"relu\")(x)\n",
    "\n",
    "    previous_block_activation = x  # Set aside residual\n",
    "\n",
    "    for size in [256, 512, 728]:\n",
    "        x = layers.Activation(\"relu\")(x)\n",
    "        x = layers.SeparableConv2D(size, 3, padding=\"same\")(x)\n",
    "        x = layers.BatchNormalization()(x)\n",
    "\n",
    "        x = layers.Activation(\"relu\")(x)\n",
    "        x = layers.SeparableConv2D(size, 3, padding=\"same\")(x)\n",
    "        x = layers.BatchNormalization()(x)\n",
    "\n",
    "        x = layers.MaxPooling2D(3, strides=2, padding=\"same\")(x)\n",
    "\n",
    "        # Project residual\n",
    "        residual = layers.Conv2D(size, 1, strides=2, padding=\"same\")(\n",
    "            previous_block_activation\n",
    "        )\n",
    "        x = layers.add([x, residual])  # Add back residual\n",
    "        previous_block_activation = x  # Set aside next residual\n",
    "\n",
    "    x = layers.SeparableConv2D(1024, 3, padding=\"same\")(x)\n",
    "    x = layers.BatchNormalization()(x)\n",
    "    x = layers.Activation(\"relu\")(x)\n",
    "\n",
    "    x = layers.GlobalAveragePooling2D()(x)\n",
    "    x = layers.Dropout(0.1)(x)\n",
    "\n",
    "\n",
    "    outputs = layers.Dense(num_classes, activation=\"softmax\")(x) # as we deal with a lot of classes\n",
    "    return keras.Model(inputs, outputs)"
   ]
  },
  {
   "cell_type": "code",
   "execution_count": null,
   "id": "de7bc255",
   "metadata": {},
   "outputs": [],
   "source": [
    "model= make_model(input_shape=image_size + (3,), num_classes=17)\n",
    "keras.utils.plot_model(model, show_shapes=True)"
   ]
  },
  {
   "cell_type": "markdown",
   "id": "dfcbc8fa",
   "metadata": {},
   "source": [
    "## model run"
   ]
  },
  {
   "cell_type": "markdown",
   "id": "9c8f84a2",
   "metadata": {},
   "source": [
    "- we decided to add something to update the learning rate as we saw in class \n",
    "- we decided to keep only the best model from the run therefore changing the original callbacks from the example"
   ]
  },
  {
   "cell_type": "code",
   "execution_count": null,
   "id": "2df1f938",
   "metadata": {},
   "outputs": [],
   "source": [
    "epochs = 20\n",
    "\n",
    "# make the learning rate change over the epochs to avoid getting stuck\n",
    "lr_schedule = keras.optimizers.schedules.ExponentialDecay(\n",
    "    initial_learning_rate=3e-4,\n",
    "    decay_steps=10000,\n",
    "    decay_rate=0.9\n",
    ")\n",
    "\n",
    "callbacks = [\n",
    "    # saves the best model of the run using max val_accuracy as a metric\n",
    "    keras.callbacks.ModelCheckpoint(\n",
    "        \"best_model_example.keras\",\n",
    "        save_best_only=True,\n",
    "        monitor=\"val_acc\",\n",
    "        mode=\"max\",\n",
    "        verbose=1)\n",
    "    ]\n",
    "\n",
    "## change from kera example is the loss function as we deal with a lot of classes\n",
    "model.compile(\n",
    "    optimizer=keras.optimizers.Adam(learning_rate=lr_schedule),\n",
    "    loss=keras.losses.SparseCategoricalCrossentropy(from_logits=False), ## change this CategoricalCrossentropy to the the one it is now\n",
    "    metrics=[keras.metrics.SparseCategoricalAccuracy(name=\"acc\")], ## change this CategoricalCrossentropy to the the one it is now\n",
    ")\n",
    "\n",
    "model.fit(\n",
    "    train_ds,\n",
    "    epochs=epochs,\n",
    "    callbacks=callbacks,\n",
    "    validation_data=val_ds,\n",
    ")\n",
    "\n",
    "# get the clasification report\n",
    "best_model_example = keras.models.load_model(\"best_model_example.keras\")\n",
    "y_pred_probs = best_model_example.predict(val_ds)\n",
    "y_pred = np.argmax(y_pred_probs, axis=1)\n",
    "\n",
    "y_true = np.concatenate([y for x, y in val_ds], axis=0)\n",
    "\n",
    "print(classification_report(y_true, y_pred))"
   ]
  }
 ],
 "metadata": {
  "language_info": {
   "name": "python"
  }
 },
 "nbformat": 4,
 "nbformat_minor": 5
}
